{
 "cells": [
  {
   "cell_type": "code",
   "execution_count": 43,
   "metadata": {},
   "outputs": [],
   "source": [
    "# Importing necessary libraries\n",
    "import pandas as pd\n",
    "from pymongo import MongoClient"
   ]
  },
  {
   "cell_type": "code",
   "execution_count": 2,
   "metadata": {},
   "outputs": [
    {
     "data": {
      "text/plain": [
       "Database(MongoClient(host=['clusterpractice-shard-00-02.clzan.mongodb.net:27017', 'clusterpractice-shard-00-01.clzan.mongodb.net:27017', 'clusterpractice-shard-00-00.clzan.mongodb.net:27017'], document_class=dict, tz_aware=False, connect=True, retrywrites=True, w='majority', appname='Clusterpractice', authsource='admin', replicaset='atlas-f2d23i-shard-0', tls=True), 'test')"
      ]
     },
     "execution_count": 2,
     "metadata": {},
     "output_type": "execute_result"
    }
   ],
   "source": [
    "# Create a connection to MongoDB\n",
    "cloud_client = MongoClient(\"python_driver connection")\n",
    "cloud_client.test"
   ]
  },
  {
   "cell_type": "code",
   "execution_count": 3,
   "metadata": {},
   "outputs": [
    {
     "data": {
      "text/plain": [
       "['sample_airbnb',\n",
       " 'sample_analytics',\n",
       " 'sample_geospatial',\n",
       " 'sample_guides',\n",
       " 'sample_mflix',\n",
       " 'sample_restaurants',\n",
       " 'sample_supplies',\n",
       " 'sample_training',\n",
       " 'sample_weatherdata',\n",
       " 'admin',\n",
       " 'local']"
      ]
     },
     "execution_count": 3,
     "metadata": {},
     "output_type": "execute_result"
    }
   ],
   "source": [
    "# Viewing the list of databases\n",
    "cloud_client.list_database_names()"
   ]
  },
  {
   "cell_type": "code",
   "execution_count": 4,
   "metadata": {},
   "outputs": [
    {
     "data": {
      "text/plain": [
       "['listingsAndReviews']"
      ]
     },
     "execution_count": 4,
     "metadata": {},
     "output_type": "execute_result"
    }
   ],
   "source": [
    "# Viewing the list of collections in required database\n",
    "db = cloud_client[\"sample_airbnb\"]\n",
    "db.list_collection_names()"
   ]
  },
  {
   "cell_type": "code",
   "execution_count": 5,
   "metadata": {},
   "outputs": [],
   "source": [
    "# Accessing the documents in required collection \n",
    "collection = db[\"listingsAndReviews\"]"
   ]
  },
  {
   "cell_type": "code",
   "execution_count": 6,
   "metadata": {},
   "outputs": [],
   "source": [
    "# Retrieving the required data from the document \n",
    "final_data = []\n",
    "for i in collection.find():\n",
    "    data = dict(Id = i[\"_id\"],\n",
    "                Name = i[\"name\"],\n",
    "                Description = i[\"description\"],\n",
    "                House_rules = i[\"house_rules\"],\n",
    "                Property_type = i[\"property_type\"],\n",
    "                Room_type = i[\"room_type\"],\n",
    "                Bed_type = i[\"bed_type\"],\n",
    "                Minimum_nights = i[\"minimum_nights\"],\n",
    "                Maximum_nights = i[\"maximum_nights\"],\n",
    "                Cancellation_policy = i[\"cancellation_policy\"],\n",
    "                Total_accommodates = i[\"accommodates\"],\n",
    "                Total_bedrooms = i.get(\"bedrooms\"),\n",
    "                Total_beds = i.get(\"beds\"),\n",
    "                Number_of_reviews = i[\"number_of_reviews\"],\n",
    "                Amenities = ', '.join(i['amenities']),\n",
    "                Price = i[\"price\"],\n",
    "                Security_deposit = i.get(\"security_deposit\"),\n",
    "                Guests_included = i[\"guests_included\"],\n",
    "                Host_id = i[\"host\"][\"host_id\"],\n",
    "                Host_name = i[\"host\"][\"host_name\"],\n",
    "                Street = i[\"address\"][\"street\"],\n",
    "                City = i[\"address\"][\"market\"],\n",
    "                Country = i[\"address\"][\"country\"],\n",
    "                Country_code = i[\"address\"][\"country_code\"],\n",
    "                Longitude = i[\"address\"][\"location\"][\"coordinates\"][0],\n",
    "                Latitude = i[\"address\"][\"location\"][\"coordinates\"][1],\n",
    "                Availability_30 = i[\"availability\"][\"availability_30\"],\n",
    "                Availability_60 = i[\"availability\"][\"availability_60\"],\n",
    "                Availability_90 = i[\"availability\"][\"availability_90\"],\n",
    "                Availability_365 = i[\"availability\"][\"availability_365\"],\n",
    "                Ratings = i[\"review_scores\"].get(\"review_scores_rating\"))\n",
    "    \n",
    "    final_data.append(data)\n"
   ]
  },
  {
   "cell_type": "code",
   "execution_count": 14,
   "metadata": {},
   "outputs": [
    {
     "data": {
      "text/html": [
       "<div>\n",
       "<style scoped>\n",
       "    .dataframe tbody tr th:only-of-type {\n",
       "        vertical-align: middle;\n",
       "    }\n",
       "\n",
       "    .dataframe tbody tr th {\n",
       "        vertical-align: top;\n",
       "    }\n",
       "\n",
       "    .dataframe thead th {\n",
       "        text-align: right;\n",
       "    }\n",
       "</style>\n",
       "<table border=\"1\" class=\"dataframe\">\n",
       "  <thead>\n",
       "    <tr style=\"text-align: right;\">\n",
       "      <th></th>\n",
       "      <th>Id</th>\n",
       "      <th>Name</th>\n",
       "      <th>Description</th>\n",
       "      <th>House_rules</th>\n",
       "      <th>Property_type</th>\n",
       "      <th>Room_type</th>\n",
       "      <th>Bed_type</th>\n",
       "      <th>Minimum_nights</th>\n",
       "      <th>Maximum_nights</th>\n",
       "      <th>Cancellation_policy</th>\n",
       "      <th>...</th>\n",
       "      <th>City</th>\n",
       "      <th>Country</th>\n",
       "      <th>Country_code</th>\n",
       "      <th>Longitude</th>\n",
       "      <th>Latitude</th>\n",
       "      <th>Availability_30</th>\n",
       "      <th>Availability_60</th>\n",
       "      <th>Availability_90</th>\n",
       "      <th>Availability_365</th>\n",
       "      <th>Ratings</th>\n",
       "    </tr>\n",
       "  </thead>\n",
       "  <tbody>\n",
       "    <tr>\n",
       "      <th>0</th>\n",
       "      <td>10006546</td>\n",
       "      <td>Ribeira Charming Duplex</td>\n",
       "      <td>Fantastic duplex apartment with three bedrooms...</td>\n",
       "      <td>Make the house your home...</td>\n",
       "      <td>House</td>\n",
       "      <td>Entire home/apt</td>\n",
       "      <td>Real Bed</td>\n",
       "      <td>2</td>\n",
       "      <td>30</td>\n",
       "      <td>moderate</td>\n",
       "      <td>...</td>\n",
       "      <td>Porto</td>\n",
       "      <td>Portugal</td>\n",
       "      <td>PT</td>\n",
       "      <td>-8.613080</td>\n",
       "      <td>41.141300</td>\n",
       "      <td>28</td>\n",
       "      <td>47</td>\n",
       "      <td>74</td>\n",
       "      <td>239</td>\n",
       "      <td>89.0</td>\n",
       "    </tr>\n",
       "    <tr>\n",
       "      <th>1</th>\n",
       "      <td>10009999</td>\n",
       "      <td>Horto flat with small garden</td>\n",
       "      <td>One bedroom + sofa-bed in quiet and bucolic ne...</td>\n",
       "      <td>I just hope the guests treat the space as they...</td>\n",
       "      <td>Apartment</td>\n",
       "      <td>Entire home/apt</td>\n",
       "      <td>Real Bed</td>\n",
       "      <td>2</td>\n",
       "      <td>1125</td>\n",
       "      <td>flexible</td>\n",
       "      <td>...</td>\n",
       "      <td>Rio De Janeiro</td>\n",
       "      <td>Brazil</td>\n",
       "      <td>BR</td>\n",
       "      <td>-43.230750</td>\n",
       "      <td>-22.966254</td>\n",
       "      <td>0</td>\n",
       "      <td>0</td>\n",
       "      <td>0</td>\n",
       "      <td>0</td>\n",
       "      <td>NaN</td>\n",
       "    </tr>\n",
       "    <tr>\n",
       "      <th>2</th>\n",
       "      <td>1001265</td>\n",
       "      <td>Ocean View Waikiki Marina w/prkg</td>\n",
       "      <td>A short distance from Honolulu's billion dolla...</td>\n",
       "      <td>The general welfare and well being of all the ...</td>\n",
       "      <td>Condominium</td>\n",
       "      <td>Entire home/apt</td>\n",
       "      <td>Real Bed</td>\n",
       "      <td>3</td>\n",
       "      <td>365</td>\n",
       "      <td>strict_14_with_grace_period</td>\n",
       "      <td>...</td>\n",
       "      <td>Oahu</td>\n",
       "      <td>United States</td>\n",
       "      <td>US</td>\n",
       "      <td>-157.839190</td>\n",
       "      <td>21.286340</td>\n",
       "      <td>16</td>\n",
       "      <td>46</td>\n",
       "      <td>76</td>\n",
       "      <td>343</td>\n",
       "      <td>84.0</td>\n",
       "    </tr>\n",
       "    <tr>\n",
       "      <th>3</th>\n",
       "      <td>10021707</td>\n",
       "      <td>Private Room in Bushwick</td>\n",
       "      <td>Here exists a very cozy room for rent in a sha...</td>\n",
       "      <td></td>\n",
       "      <td>Apartment</td>\n",
       "      <td>Private room</td>\n",
       "      <td>Real Bed</td>\n",
       "      <td>14</td>\n",
       "      <td>1125</td>\n",
       "      <td>flexible</td>\n",
       "      <td>...</td>\n",
       "      <td>New York</td>\n",
       "      <td>United States</td>\n",
       "      <td>US</td>\n",
       "      <td>-73.936150</td>\n",
       "      <td>40.697910</td>\n",
       "      <td>0</td>\n",
       "      <td>0</td>\n",
       "      <td>0</td>\n",
       "      <td>0</td>\n",
       "      <td>100.0</td>\n",
       "    </tr>\n",
       "    <tr>\n",
       "      <th>4</th>\n",
       "      <td>10030955</td>\n",
       "      <td>Apt Linda Vista Lagoa - Rio</td>\n",
       "      <td>Quarto com vista para a Lagoa Rodrigo de Freit...</td>\n",
       "      <td></td>\n",
       "      <td>Apartment</td>\n",
       "      <td>Private room</td>\n",
       "      <td>Real Bed</td>\n",
       "      <td>1</td>\n",
       "      <td>1125</td>\n",
       "      <td>flexible</td>\n",
       "      <td>...</td>\n",
       "      <td>Rio De Janeiro</td>\n",
       "      <td>Brazil</td>\n",
       "      <td>BR</td>\n",
       "      <td>-43.205047</td>\n",
       "      <td>-22.971951</td>\n",
       "      <td>28</td>\n",
       "      <td>58</td>\n",
       "      <td>88</td>\n",
       "      <td>363</td>\n",
       "      <td>NaN</td>\n",
       "    </tr>\n",
       "  </tbody>\n",
       "</table>\n",
       "<p>5 rows × 31 columns</p>\n",
       "</div>"
      ],
      "text/plain": [
       "         Id                              Name  \\\n",
       "0  10006546           Ribeira Charming Duplex   \n",
       "1  10009999      Horto flat with small garden   \n",
       "2   1001265  Ocean View Waikiki Marina w/prkg   \n",
       "3  10021707          Private Room in Bushwick   \n",
       "4  10030955       Apt Linda Vista Lagoa - Rio   \n",
       "\n",
       "                                         Description  \\\n",
       "0  Fantastic duplex apartment with three bedrooms...   \n",
       "1  One bedroom + sofa-bed in quiet and bucolic ne...   \n",
       "2  A short distance from Honolulu's billion dolla...   \n",
       "3  Here exists a very cozy room for rent in a sha...   \n",
       "4  Quarto com vista para a Lagoa Rodrigo de Freit...   \n",
       "\n",
       "                                         House_rules Property_type  \\\n",
       "0                        Make the house your home...         House   \n",
       "1  I just hope the guests treat the space as they...     Apartment   \n",
       "2  The general welfare and well being of all the ...   Condominium   \n",
       "3                                                        Apartment   \n",
       "4                                                        Apartment   \n",
       "\n",
       "         Room_type  Bed_type Minimum_nights Maximum_nights  \\\n",
       "0  Entire home/apt  Real Bed              2             30   \n",
       "1  Entire home/apt  Real Bed              2           1125   \n",
       "2  Entire home/apt  Real Bed              3            365   \n",
       "3     Private room  Real Bed             14           1125   \n",
       "4     Private room  Real Bed              1           1125   \n",
       "\n",
       "           Cancellation_policy  ...            City        Country  \\\n",
       "0                     moderate  ...           Porto       Portugal   \n",
       "1                     flexible  ...  Rio De Janeiro         Brazil   \n",
       "2  strict_14_with_grace_period  ...            Oahu  United States   \n",
       "3                     flexible  ...        New York  United States   \n",
       "4                     flexible  ...  Rio De Janeiro         Brazil   \n",
       "\n",
       "   Country_code   Longitude   Latitude Availability_30 Availability_60  \\\n",
       "0            PT   -8.613080  41.141300              28              47   \n",
       "1            BR  -43.230750 -22.966254               0               0   \n",
       "2            US -157.839190  21.286340              16              46   \n",
       "3            US  -73.936150  40.697910               0               0   \n",
       "4            BR  -43.205047 -22.971951              28              58   \n",
       "\n",
       "  Availability_90 Availability_365 Ratings  \n",
       "0              74              239    89.0  \n",
       "1               0                0     NaN  \n",
       "2              76              343    84.0  \n",
       "3               0                0   100.0  \n",
       "4              88              363     NaN  \n",
       "\n",
       "[5 rows x 31 columns]"
      ]
     },
     "execution_count": 14,
     "metadata": {},
     "output_type": "execute_result"
    }
   ],
   "source": [
    "# Converting the retrieved data to Dataframe with Pandas \n",
    "airbnb_data = pd.DataFrame(final_data)\n",
    "airbnb_data.head()\n"
   ]
  },
  {
   "cell_type": "code",
   "execution_count": 15,
   "metadata": {},
   "outputs": [],
   "source": [
    "# Adding Area column\n",
    "airbnb_data['Area'] = airbnb_data['Street'].apply(lambda x: x.split(\",\")[0])\n",
    "\n",
    "airbnb_data['Area'] = airbnb_data['Area'].apply(lambda x: x.strip().capitalize())\n"
   ]
  },
  {
   "cell_type": "code",
   "execution_count": 16,
   "metadata": {},
   "outputs": [
    {
     "name": "stdout",
     "output_type": "stream",
     "text": [
      "<class 'pandas.core.frame.DataFrame'>\n",
      "RangeIndex: 5555 entries, 0 to 5554\n",
      "Data columns (total 32 columns):\n",
      " #   Column               Non-Null Count  Dtype  \n",
      "---  ------               --------------  -----  \n",
      " 0   Id                   5555 non-null   object \n",
      " 1   Name                 5555 non-null   object \n",
      " 2   Description          5555 non-null   object \n",
      " 3   House_rules          5555 non-null   object \n",
      " 4   Property_type        5555 non-null   object \n",
      " 5   Room_type            5555 non-null   object \n",
      " 6   Bed_type             5555 non-null   object \n",
      " 7   Minimum_nights       5555 non-null   object \n",
      " 8   Maximum_nights       5555 non-null   object \n",
      " 9   Cancellation_policy  5555 non-null   object \n",
      " 10  Total_accommodates   5555 non-null   int64  \n",
      " 11  Total_bedrooms       5550 non-null   float64\n",
      " 12  Total_beds           5542 non-null   float64\n",
      " 13  Number_of_reviews    5555 non-null   int64  \n",
      " 14  Amenities            5555 non-null   object \n",
      " 15  Price                5555 non-null   object \n",
      " 16  Security_deposit     3471 non-null   object \n",
      " 17  Guests_included      5555 non-null   object \n",
      " 18  Host_id              5555 non-null   object \n",
      " 19  Host_name            5555 non-null   object \n",
      " 20  Street               5555 non-null   object \n",
      " 21  City                 5555 non-null   object \n",
      " 22  Country              5555 non-null   object \n",
      " 23  Country_code         5555 non-null   object \n",
      " 24  Longitude            5555 non-null   float64\n",
      " 25  Latitude             5555 non-null   float64\n",
      " 26  Availability_30      5555 non-null   int64  \n",
      " 27  Availability_60      5555 non-null   int64  \n",
      " 28  Availability_90      5555 non-null   int64  \n",
      " 29  Availability_365     5555 non-null   int64  \n",
      " 30  Ratings              4081 non-null   float64\n",
      " 31  Area                 5555 non-null   object \n",
      "dtypes: float64(5), int64(6), object(21)\n",
      "memory usage: 1.4+ MB\n"
     ]
    }
   ],
   "source": [
    "# Checking the number of records, datatypes of each column\n",
    "airbnb_data.info()"
   ]
  },
  {
   "cell_type": "code",
   "execution_count": 17,
   "metadata": {},
   "outputs": [
    {
     "data": {
      "text/plain": [
       "Id                        0\n",
       "Name                      0\n",
       "Description               0\n",
       "House_rules               0\n",
       "Property_type             0\n",
       "Room_type                 0\n",
       "Bed_type                  0\n",
       "Minimum_nights            0\n",
       "Maximum_nights            0\n",
       "Cancellation_policy       0\n",
       "Total_accommodates        0\n",
       "Total_bedrooms            5\n",
       "Total_beds               13\n",
       "Number_of_reviews         0\n",
       "Amenities                 0\n",
       "Price                     0\n",
       "Security_deposit       2084\n",
       "Guests_included           0\n",
       "Host_id                   0\n",
       "Host_name                 0\n",
       "Street                    0\n",
       "City                      0\n",
       "Country                   0\n",
       "Country_code              0\n",
       "Longitude                 0\n",
       "Latitude                  0\n",
       "Availability_30           0\n",
       "Availability_60           0\n",
       "Availability_90           0\n",
       "Availability_365          0\n",
       "Ratings                1474\n",
       "Area                      0\n",
       "dtype: int64"
      ]
     },
     "execution_count": 17,
     "metadata": {},
     "output_type": "execute_result"
    }
   ],
   "source": [
    "# Checking the missing values\n",
    "airbnb_data.isnull().sum()"
   ]
  },
  {
   "cell_type": "code",
   "execution_count": 20,
   "metadata": {},
   "outputs": [],
   "source": [
    "# Handling the missing values\n",
    "airbnb_data[\"Total_bedrooms\"] = airbnb_data[\"Total_bedrooms\"].fillna(airbnb_data[\"Total_bedrooms\"].mode()[0])\n",
    "airbnb_data[\"Total_beds\"] = airbnb_data[\"Total_beds\"].fillna(airbnb_data[\"Total_beds\"].mode()[0])\n",
    "airbnb_data[\"Ratings\"] = airbnb_data[\"Ratings\"].fillna(airbnb_data[\"Ratings\"].median())\n",
    "airbnb_data.drop(columns=[\"Security_deposit\"],inplace=True)\n"
   ]
  },
  {
   "cell_type": "code",
   "execution_count": 22,
   "metadata": {},
   "outputs": [
    {
     "data": {
      "text/plain": [
       "Id                     0\n",
       "Name                   0\n",
       "Description            0\n",
       "House_rules            0\n",
       "Property_type          0\n",
       "Room_type              0\n",
       "Bed_type               0\n",
       "Minimum_nights         0\n",
       "Maximum_nights         0\n",
       "Cancellation_policy    0\n",
       "Total_accommodates     0\n",
       "Total_bedrooms         0\n",
       "Total_beds             0\n",
       "Number_of_reviews      0\n",
       "Amenities              0\n",
       "Price                  0\n",
       "Guests_included        0\n",
       "Host_id                0\n",
       "Host_name              0\n",
       "Street                 0\n",
       "City                   0\n",
       "Country                0\n",
       "Country_code           0\n",
       "Longitude              0\n",
       "Latitude               0\n",
       "Availability_30        0\n",
       "Availability_60        0\n",
       "Availability_90        0\n",
       "Availability_365       0\n",
       "Ratings                0\n",
       "Area                   0\n",
       "dtype: int64"
      ]
     },
     "execution_count": 22,
     "metadata": {},
     "output_type": "execute_result"
    }
   ],
   "source": [
    "airbnb_data.isnull().sum()"
   ]
  },
  {
   "cell_type": "code",
   "execution_count": 23,
   "metadata": {},
   "outputs": [
    {
     "data": {
      "text/plain": [
       "Id                      object\n",
       "Name                    object\n",
       "Description             object\n",
       "House_rules             object\n",
       "Property_type           object\n",
       "Room_type               object\n",
       "Bed_type                object\n",
       "Minimum_nights          object\n",
       "Maximum_nights          object\n",
       "Cancellation_policy     object\n",
       "Total_accommodates       int64\n",
       "Total_bedrooms         float64\n",
       "Total_beds             float64\n",
       "Number_of_reviews        int64\n",
       "Amenities               object\n",
       "Price                   object\n",
       "Guests_included         object\n",
       "Host_id                 object\n",
       "Host_name               object\n",
       "Street                  object\n",
       "City                    object\n",
       "Country                 object\n",
       "Country_code            object\n",
       "Longitude              float64\n",
       "Latitude               float64\n",
       "Availability_30          int64\n",
       "Availability_60          int64\n",
       "Availability_90          int64\n",
       "Availability_365         int64\n",
       "Ratings                float64\n",
       "Area                    object\n",
       "dtype: object"
      ]
     },
     "execution_count": 23,
     "metadata": {},
     "output_type": "execute_result"
    }
   ],
   "source": [
    "airbnb_data.dtypes"
   ]
  },
  {
   "cell_type": "code",
   "execution_count": 24,
   "metadata": {},
   "outputs": [],
   "source": [
    "# Transforming data types\n",
    "airbnb_data[\"Minimum_nights\"] = airbnb_data[\"Minimum_nights\"].astype(int)\n",
    "airbnb_data[\"Maximum_nights\"] = airbnb_data[\"Maximum_nights\"].astype(int)\n",
    "airbnb_data[\"Total_bedrooms\"] = airbnb_data[\"Total_bedrooms\"].astype(int)\n",
    "airbnb_data[\"Total_beds\"] = airbnb_data[\"Total_beds\"].astype(int)\n",
    "airbnb_data[\"Price\"] = airbnb_data[\"Price\"].astype(str).astype(float)\n",
    "airbnb_data[\"Guests_included\"] = airbnb_data[\"Guests_included\"].astype(str).astype(int)\n"
   ]
  },
  {
   "cell_type": "code",
   "execution_count": 25,
   "metadata": {},
   "outputs": [
    {
     "name": "stdout",
     "output_type": "stream",
     "text": [
      "<class 'pandas.core.frame.DataFrame'>\n",
      "RangeIndex: 5555 entries, 0 to 5554\n",
      "Data columns (total 31 columns):\n",
      " #   Column               Non-Null Count  Dtype  \n",
      "---  ------               --------------  -----  \n",
      " 0   Id                   5555 non-null   object \n",
      " 1   Name                 5555 non-null   object \n",
      " 2   Description          5555 non-null   object \n",
      " 3   House_rules          5555 non-null   object \n",
      " 4   Property_type        5555 non-null   object \n",
      " 5   Room_type            5555 non-null   object \n",
      " 6   Bed_type             5555 non-null   object \n",
      " 7   Minimum_nights       5555 non-null   int32  \n",
      " 8   Maximum_nights       5555 non-null   int32  \n",
      " 9   Cancellation_policy  5555 non-null   object \n",
      " 10  Total_accommodates   5555 non-null   int64  \n",
      " 11  Total_bedrooms       5555 non-null   int32  \n",
      " 12  Total_beds           5555 non-null   int32  \n",
      " 13  Number_of_reviews    5555 non-null   int64  \n",
      " 14  Amenities            5555 non-null   object \n",
      " 15  Price                5555 non-null   float64\n",
      " 16  Guests_included      5555 non-null   int32  \n",
      " 17  Host_id              5555 non-null   object \n",
      " 18  Host_name            5555 non-null   object \n",
      " 19  Street               5555 non-null   object \n",
      " 20  City                 5555 non-null   object \n",
      " 21  Country              5555 non-null   object \n",
      " 22  Country_code         5555 non-null   object \n",
      " 23  Longitude            5555 non-null   float64\n",
      " 24  Latitude             5555 non-null   float64\n",
      " 25  Availability_30      5555 non-null   int64  \n",
      " 26  Availability_60      5555 non-null   int64  \n",
      " 27  Availability_90      5555 non-null   int64  \n",
      " 28  Availability_365     5555 non-null   int64  \n",
      " 29  Ratings              5555 non-null   float64\n",
      " 30  Area                 5555 non-null   object \n",
      "dtypes: float64(4), int32(5), int64(6), object(16)\n",
      "memory usage: 1.2+ MB\n"
     ]
    }
   ],
   "source": [
    "airbnb_data.info()"
   ]
  },
  {
   "cell_type": "code",
   "execution_count": 26,
   "metadata": {},
   "outputs": [
    {
     "data": {
      "text/html": [
       "<div>\n",
       "<style scoped>\n",
       "    .dataframe tbody tr th:only-of-type {\n",
       "        vertical-align: middle;\n",
       "    }\n",
       "\n",
       "    .dataframe tbody tr th {\n",
       "        vertical-align: top;\n",
       "    }\n",
       "\n",
       "    .dataframe thead th {\n",
       "        text-align: right;\n",
       "    }\n",
       "</style>\n",
       "<table border=\"1\" class=\"dataframe\">\n",
       "  <thead>\n",
       "    <tr style=\"text-align: right;\">\n",
       "      <th></th>\n",
       "      <th>Id</th>\n",
       "      <th>Name</th>\n",
       "      <th>Description</th>\n",
       "      <th>House_rules</th>\n",
       "      <th>Property_type</th>\n",
       "      <th>Room_type</th>\n",
       "      <th>Bed_type</th>\n",
       "      <th>Minimum_nights</th>\n",
       "      <th>Maximum_nights</th>\n",
       "      <th>Cancellation_policy</th>\n",
       "      <th>...</th>\n",
       "      <th>Country</th>\n",
       "      <th>Country_code</th>\n",
       "      <th>Longitude</th>\n",
       "      <th>Latitude</th>\n",
       "      <th>Availability_30</th>\n",
       "      <th>Availability_60</th>\n",
       "      <th>Availability_90</th>\n",
       "      <th>Availability_365</th>\n",
       "      <th>Ratings</th>\n",
       "      <th>Area</th>\n",
       "    </tr>\n",
       "  </thead>\n",
       "  <tbody>\n",
       "  </tbody>\n",
       "</table>\n",
       "<p>0 rows × 31 columns</p>\n",
       "</div>"
      ],
      "text/plain": [
       "Empty DataFrame\n",
       "Columns: [Id, Name, Description, House_rules, Property_type, Room_type, Bed_type, Minimum_nights, Maximum_nights, Cancellation_policy, Total_accommodates, Total_bedrooms, Total_beds, Number_of_reviews, Amenities, Price, Guests_included, Host_id, Host_name, Street, City, Country, Country_code, Longitude, Latitude, Availability_30, Availability_60, Availability_90, Availability_365, Ratings, Area]\n",
       "Index: []\n",
       "\n",
       "[0 rows x 31 columns]"
      ]
     },
     "execution_count": 26,
     "metadata": {},
     "output_type": "execute_result"
    }
   ],
   "source": [
    "# Checking for duplicates\n",
    "airbnb_data[airbnb_data.duplicated]"
   ]
  },
  {
   "cell_type": "code",
   "execution_count": 27,
   "metadata": {},
   "outputs": [
    {
     "data": {
      "text/html": [
       "<div>\n",
       "<style scoped>\n",
       "    .dataframe tbody tr th:only-of-type {\n",
       "        vertical-align: middle;\n",
       "    }\n",
       "\n",
       "    .dataframe tbody tr th {\n",
       "        vertical-align: top;\n",
       "    }\n",
       "\n",
       "    .dataframe thead th {\n",
       "        text-align: right;\n",
       "    }\n",
       "</style>\n",
       "<table border=\"1\" class=\"dataframe\">\n",
       "  <thead>\n",
       "    <tr style=\"text-align: right;\">\n",
       "      <th></th>\n",
       "      <th>Minimum_nights</th>\n",
       "      <th>Maximum_nights</th>\n",
       "      <th>Total_accommodates</th>\n",
       "      <th>Total_bedrooms</th>\n",
       "      <th>Total_beds</th>\n",
       "      <th>Number_of_reviews</th>\n",
       "      <th>Price</th>\n",
       "      <th>Guests_included</th>\n",
       "      <th>Longitude</th>\n",
       "      <th>Latitude</th>\n",
       "      <th>Availability_30</th>\n",
       "      <th>Availability_60</th>\n",
       "      <th>Availability_90</th>\n",
       "      <th>Availability_365</th>\n",
       "      <th>Ratings</th>\n",
       "    </tr>\n",
       "  </thead>\n",
       "  <tbody>\n",
       "    <tr>\n",
       "      <th>count</th>\n",
       "      <td>5555.000000</td>\n",
       "      <td>5.555000e+03</td>\n",
       "      <td>5555.000000</td>\n",
       "      <td>5555.000000</td>\n",
       "      <td>5555.000000</td>\n",
       "      <td>5555.000000</td>\n",
       "      <td>5555.000000</td>\n",
       "      <td>5555.000000</td>\n",
       "      <td>5555.000000</td>\n",
       "      <td>5555.000000</td>\n",
       "      <td>5555.000000</td>\n",
       "      <td>5555.000000</td>\n",
       "      <td>5555.000000</td>\n",
       "      <td>5555.000000</td>\n",
       "      <td>5555.000000</td>\n",
       "    </tr>\n",
       "    <tr>\n",
       "      <th>mean</th>\n",
       "      <td>5.564356</td>\n",
       "      <td>1.382776e+06</td>\n",
       "      <td>3.505851</td>\n",
       "      <td>1.411341</td>\n",
       "      <td>2.068947</td>\n",
       "      <td>27.606481</td>\n",
       "      <td>278.766157</td>\n",
       "      <td>1.747435</td>\n",
       "      <td>-6.623240</td>\n",
       "      <td>22.061230</td>\n",
       "      <td>11.816202</td>\n",
       "      <td>26.451305</td>\n",
       "      <td>42.758056</td>\n",
       "      <td>173.105671</td>\n",
       "      <td>93.603600</td>\n",
       "    </tr>\n",
       "    <tr>\n",
       "      <th>std</th>\n",
       "      <td>22.613861</td>\n",
       "      <td>5.256920e+07</td>\n",
       "      <td>2.297019</td>\n",
       "      <td>1.041547</td>\n",
       "      <td>1.618592</td>\n",
       "      <td>49.798376</td>\n",
       "      <td>842.215531</td>\n",
       "      <td>1.487352</td>\n",
       "      <td>90.525974</td>\n",
       "      <td>28.092112</td>\n",
       "      <td>11.686113</td>\n",
       "      <td>23.476011</td>\n",
       "      <td>35.226897</td>\n",
       "      <td>139.841893</td>\n",
       "      <td>7.779357</td>\n",
       "    </tr>\n",
       "    <tr>\n",
       "      <th>min</th>\n",
       "      <td>1.000000</td>\n",
       "      <td>1.000000e+00</td>\n",
       "      <td>1.000000</td>\n",
       "      <td>0.000000</td>\n",
       "      <td>0.000000</td>\n",
       "      <td>0.000000</td>\n",
       "      <td>9.000000</td>\n",
       "      <td>1.000000</td>\n",
       "      <td>-159.678690</td>\n",
       "      <td>-34.088290</td>\n",
       "      <td>0.000000</td>\n",
       "      <td>0.000000</td>\n",
       "      <td>0.000000</td>\n",
       "      <td>0.000000</td>\n",
       "      <td>20.000000</td>\n",
       "    </tr>\n",
       "    <tr>\n",
       "      <th>25%</th>\n",
       "      <td>1.000000</td>\n",
       "      <td>5.900000e+01</td>\n",
       "      <td>2.000000</td>\n",
       "      <td>1.000000</td>\n",
       "      <td>1.000000</td>\n",
       "      <td>1.000000</td>\n",
       "      <td>70.000000</td>\n",
       "      <td>1.000000</td>\n",
       "      <td>-73.599530</td>\n",
       "      <td>20.724390</td>\n",
       "      <td>0.000000</td>\n",
       "      <td>0.000000</td>\n",
       "      <td>0.000000</td>\n",
       "      <td>17.000000</td>\n",
       "      <td>93.000000</td>\n",
       "    </tr>\n",
       "    <tr>\n",
       "      <th>50%</th>\n",
       "      <td>2.000000</td>\n",
       "      <td>1.125000e+03</td>\n",
       "      <td>3.000000</td>\n",
       "      <td>1.000000</td>\n",
       "      <td>2.000000</td>\n",
       "      <td>5.000000</td>\n",
       "      <td>129.000000</td>\n",
       "      <td>1.000000</td>\n",
       "      <td>-8.611420</td>\n",
       "      <td>40.727130</td>\n",
       "      <td>8.000000</td>\n",
       "      <td>23.000000</td>\n",
       "      <td>43.000000</td>\n",
       "      <td>171.000000</td>\n",
       "      <td>95.000000</td>\n",
       "    </tr>\n",
       "    <tr>\n",
       "      <th>75%</th>\n",
       "      <td>3.000000</td>\n",
       "      <td>1.125000e+03</td>\n",
       "      <td>4.000000</td>\n",
       "      <td>2.000000</td>\n",
       "      <td>3.000000</td>\n",
       "      <td>32.000000</td>\n",
       "      <td>280.000000</td>\n",
       "      <td>2.000000</td>\n",
       "      <td>29.019605</td>\n",
       "      <td>41.162755</td>\n",
       "      <td>24.000000</td>\n",
       "      <td>52.000000</td>\n",
       "      <td>80.000000</td>\n",
       "      <td>317.000000</td>\n",
       "      <td>98.000000</td>\n",
       "    </tr>\n",
       "    <tr>\n",
       "      <th>max</th>\n",
       "      <td>1250.000000</td>\n",
       "      <td>2.147484e+09</td>\n",
       "      <td>16.000000</td>\n",
       "      <td>20.000000</td>\n",
       "      <td>25.000000</td>\n",
       "      <td>533.000000</td>\n",
       "      <td>48842.000000</td>\n",
       "      <td>16.000000</td>\n",
       "      <td>151.338980</td>\n",
       "      <td>45.665630</td>\n",
       "      <td>30.000000</td>\n",
       "      <td>60.000000</td>\n",
       "      <td>90.000000</td>\n",
       "      <td>365.000000</td>\n",
       "      <td>100.000000</td>\n",
       "    </tr>\n",
       "  </tbody>\n",
       "</table>\n",
       "</div>"
      ],
      "text/plain": [
       "       Minimum_nights  Maximum_nights  Total_accommodates  Total_bedrooms  \\\n",
       "count     5555.000000    5.555000e+03         5555.000000     5555.000000   \n",
       "mean         5.564356    1.382776e+06            3.505851        1.411341   \n",
       "std         22.613861    5.256920e+07            2.297019        1.041547   \n",
       "min          1.000000    1.000000e+00            1.000000        0.000000   \n",
       "25%          1.000000    5.900000e+01            2.000000        1.000000   \n",
       "50%          2.000000    1.125000e+03            3.000000        1.000000   \n",
       "75%          3.000000    1.125000e+03            4.000000        2.000000   \n",
       "max       1250.000000    2.147484e+09           16.000000       20.000000   \n",
       "\n",
       "        Total_beds  Number_of_reviews         Price  Guests_included  \\\n",
       "count  5555.000000        5555.000000   5555.000000      5555.000000   \n",
       "mean      2.068947          27.606481    278.766157         1.747435   \n",
       "std       1.618592          49.798376    842.215531         1.487352   \n",
       "min       0.000000           0.000000      9.000000         1.000000   \n",
       "25%       1.000000           1.000000     70.000000         1.000000   \n",
       "50%       2.000000           5.000000    129.000000         1.000000   \n",
       "75%       3.000000          32.000000    280.000000         2.000000   \n",
       "max      25.000000         533.000000  48842.000000        16.000000   \n",
       "\n",
       "         Longitude     Latitude  Availability_30  Availability_60  \\\n",
       "count  5555.000000  5555.000000      5555.000000      5555.000000   \n",
       "mean     -6.623240    22.061230        11.816202        26.451305   \n",
       "std      90.525974    28.092112        11.686113        23.476011   \n",
       "min    -159.678690   -34.088290         0.000000         0.000000   \n",
       "25%     -73.599530    20.724390         0.000000         0.000000   \n",
       "50%      -8.611420    40.727130         8.000000        23.000000   \n",
       "75%      29.019605    41.162755        24.000000        52.000000   \n",
       "max     151.338980    45.665630        30.000000        60.000000   \n",
       "\n",
       "       Availability_90  Availability_365      Ratings  \n",
       "count      5555.000000       5555.000000  5555.000000  \n",
       "mean         42.758056        173.105671    93.603600  \n",
       "std          35.226897        139.841893     7.779357  \n",
       "min           0.000000          0.000000    20.000000  \n",
       "25%           0.000000         17.000000    93.000000  \n",
       "50%          43.000000        171.000000    95.000000  \n",
       "75%          80.000000        317.000000    98.000000  \n",
       "max          90.000000        365.000000   100.000000  "
      ]
     },
     "execution_count": 27,
     "metadata": {},
     "output_type": "execute_result"
    }
   ],
   "source": [
    "# Viewing the basic statistics for numerical columns\n",
    "airbnb_data.describe()"
   ]
  },
  {
   "cell_type": "code",
   "execution_count": 28,
   "metadata": {},
   "outputs": [
    {
     "data": {
      "text/plain": [
       "Property_type\n",
       "Apartment                 3626\n",
       "House                      606\n",
       "Condominium                399\n",
       "Serviced apartment         185\n",
       "Loft                       142\n",
       "Townhouse                  108\n",
       "Guest suite                 81\n",
       "Bed and breakfast           69\n",
       "Boutique hotel              53\n",
       "Guesthouse                  50\n",
       "Hostel                      34\n",
       "Villa                       32\n",
       "Hotel                       26\n",
       "Aparthotel                  23\n",
       "Cottage                     20\n",
       "Other                       18\n",
       "Cabin                       15\n",
       "Bungalow                    14\n",
       "Resort                      11\n",
       "Casa particular (Cuba)       9\n",
       "Farm stay                    9\n",
       "Tiny house                   7\n",
       "Nature lodge                 2\n",
       "Camper/RV                    2\n",
       "Boat                         2\n",
       "Chalet                       2\n",
       "Earth house                  1\n",
       "Barn                         1\n",
       "Hut                          1\n",
       "Treehouse                    1\n",
       "Heritage hotel (India)       1\n",
       "Pension (South Korea)        1\n",
       "Campsite                     1\n",
       "Houseboat                    1\n",
       "Castle                       1\n",
       "Train                        1\n",
       "Name: count, dtype: int64"
      ]
     },
     "execution_count": 28,
     "metadata": {},
     "output_type": "execute_result"
    }
   ],
   "source": [
    "airbnb_data[\"Property_type\"].value_counts()"
   ]
  },
  {
   "cell_type": "code",
   "execution_count": 29,
   "metadata": {},
   "outputs": [
    {
     "data": {
      "text/plain": [
       "Room_type\n",
       "Entire home/apt    3489\n",
       "Private room       1983\n",
       "Shared room          83\n",
       "Name: count, dtype: int64"
      ]
     },
     "execution_count": 29,
     "metadata": {},
     "output_type": "execute_result"
    }
   ],
   "source": [
    "airbnb_data[\"Room_type\"].value_counts()"
   ]
  },
  {
   "cell_type": "code",
   "execution_count": 30,
   "metadata": {},
   "outputs": [
    {
     "data": {
      "text/plain": [
       "Bed_type\n",
       "Real Bed         5506\n",
       "Pull-out Sofa      26\n",
       "Futon              10\n",
       "Couch               7\n",
       "Airbed              6\n",
       "Name: count, dtype: int64"
      ]
     },
     "execution_count": 30,
     "metadata": {},
     "output_type": "execute_result"
    }
   ],
   "source": [
    "airbnb_data[\"Bed_type\"].value_counts()"
   ]
  },
  {
   "cell_type": "code",
   "execution_count": 31,
   "metadata": {},
   "outputs": [
    {
     "data": {
      "text/plain": [
       "Cancellation_policy\n",
       "strict_14_with_grace_period    2420\n",
       "flexible                       1682\n",
       "moderate                       1336\n",
       "super_strict_60                  79\n",
       "super_strict_30                  38\n",
       "Name: count, dtype: int64"
      ]
     },
     "execution_count": 31,
     "metadata": {},
     "output_type": "execute_result"
    }
   ],
   "source": [
    "airbnb_data[\"Cancellation_policy\"].value_counts()\n"
   ]
  },
  {
   "cell_type": "code",
   "execution_count": 32,
   "metadata": {},
   "outputs": [
    {
     "data": {
      "text/plain": [
       "Country\n",
       "United States    1222\n",
       "Turkey            661\n",
       "Canada            649\n",
       "Spain             633\n",
       "Australia         610\n",
       "Brazil            606\n",
       "Hong Kong         600\n",
       "Portugal          555\n",
       "China              19\n",
       "Name: count, dtype: int64"
      ]
     },
     "execution_count": 32,
     "metadata": {},
     "output_type": "execute_result"
    }
   ],
   "source": [
    "airbnb_data[\"Country\"].value_counts()"
   ]
  },
  {
   "cell_type": "code",
   "execution_count": 33,
   "metadata": {},
   "outputs": [
    {
     "data": {
      "text/plain": [
       "City\n",
       "Istanbul                 660\n",
       "Montreal                 648\n",
       "Barcelona                632\n",
       "Hong Kong                619\n",
       "Sydney                   609\n",
       "New York                 607\n",
       "Rio De Janeiro           603\n",
       "Porto                    554\n",
       "Oahu                     253\n",
       "Maui                     153\n",
       "The Big Island           139\n",
       "Kauai                     67\n",
       "                           6\n",
       "Other (International)      4\n",
       "Other (Domestic)           1\n",
       "Name: count, dtype: int64"
      ]
     },
     "execution_count": 33,
     "metadata": {},
     "output_type": "execute_result"
    }
   ],
   "source": [
    "airbnb_data[\"City\"].value_counts()"
   ]
  },
  {
   "cell_type": "code",
   "execution_count": 34,
   "metadata": {},
   "outputs": [],
   "source": [
    "# Exporting the cleaned data to csv file\n",
    "airbnb_data.to_csv(r'airbnb_data.csv')"
   ]
  },
  {
   "cell_type": "code",
   "execution_count": null,
   "metadata": {},
   "outputs": [],
   "source": []
  }
 ],
 "metadata": {
  "kernelspec": {
   "display_name": "Python 3",
   "language": "python",
   "name": "python3"
  },
  "language_info": {
   "codemirror_mode": {
    "name": "ipython",
    "version": 3
   },
   "file_extension": ".py",
   "mimetype": "text/x-python",
   "name": "python",
   "nbconvert_exporter": "python",
   "pygments_lexer": "ipython3",
   "version": "3.12.4"
  }
 },
 "nbformat": 4,
 "nbformat_minor": 2
}
